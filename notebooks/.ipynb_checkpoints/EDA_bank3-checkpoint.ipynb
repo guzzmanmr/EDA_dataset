{
 "cells": [
  {
   "cell_type": "code",
   "execution_count": 1,
   "id": "7bc5ca08",
   "metadata": {
    "scrolled": true
   },
   "outputs": [],
   "source": [
    "import pandas as pd \n",
    "import numpy as np\n",
    "import sklearn\n",
    "from sklearn.pipeline import Pipeline\n",
    "from sklearn import metrics\n",
    "# conda install category_encoders\n",
    "import category_encoders as ce\n",
    "from sklearn.preprocessing import OneHotEncoder\n",
    "from sklearn.ensemble import GradientBoostingClassifier\n",
    "import matplotlib.pyplot as plt\n",
    "import seaborn as sns\n",
    "from sklearn.ensemble import RandomForestClassifier, AdaBoostClassifier\n",
    "from sklearn.preprocessing import StandardScaler\n",
    "\n",
    "from sklearn.metrics import classification_report, confusion_matrix, roc_curve, auc, \\\n",
    "                            silhouette_score, recall_score, precision_score, make_scorer, \\\n",
    "                            roc_auc_score, f1_score, precision_recall_curve, accuracy_score, roc_auc_score, \\\n",
    "                            classification_report, confusion_matrix\n",
    "\n",
    "from sklearn import metrics\n"
   ]
  },
  {
   "cell_type": "code",
   "execution_count": 3,
   "id": "6df80ee8",
   "metadata": {},
   "outputs": [
    {
     "data": {
      "text/plain": [
       "'C:\\\\Users\\\\carua\\\\OneDrive\\\\Escritorio\\\\Cunef\\\\Aprendizaje_autom\\\\4.EDA_tratamiento_vars_encoding'"
      ]
     },
     "execution_count": 3,
     "metadata": {},
     "output_type": "execute_result"
    }
   ],
   "source": [
    "import os \n",
    "os.getcwd()"
   ]
  },
  {
   "cell_type": "code",
   "execution_count": 4,
   "id": "ec2d224f",
   "metadata": {},
   "outputs": [],
   "source": [
    "os.chdir('./archive')"
   ]
  },
  {
   "cell_type": "code",
   "execution_count": 13,
   "id": "b05c872d",
   "metadata": {},
   "outputs": [],
   "source": [
    "bf_train = pd.read_csv(\"Base.csv\")\n",
    "bf_test = pd.read_csv(\"Base.csv\")"
   ]
  },
  {
   "cell_type": "code",
   "execution_count": 6,
   "id": "69694e09",
   "metadata": {},
   "outputs": [
    {
     "data": {
      "text/plain": [
       "Index(['fraud_bool', 'income', 'name_email_similarity',\n",
       "       'prev_address_months_count', 'current_address_months_count',\n",
       "       'customer_age', 'days_since_request', 'intended_balcon_amount',\n",
       "       'payment_type', 'zip_count_4w', 'velocity_6h', 'velocity_24h',\n",
       "       'velocity_4w', 'bank_branch_count_8w',\n",
       "       'date_of_birth_distinct_emails_4w', 'employment_status',\n",
       "       'credit_risk_score', 'email_is_free', 'housing_status',\n",
       "       'phone_home_valid', 'phone_mobile_valid', 'bank_months_count',\n",
       "       'has_other_cards', 'proposed_credit_limit', 'foreign_request', 'source',\n",
       "       'session_length_in_minutes', 'device_os', 'keep_alive_session',\n",
       "       'device_distinct_emails_8w', 'device_fraud_count', 'month'],\n",
       "      dtype='object')"
      ]
     },
     "execution_count": 6,
     "metadata": {},
     "output_type": "execute_result"
    }
   ],
   "source": [
    "bf_train.columns"
   ]
  },
  {
   "cell_type": "code",
   "execution_count": 7,
   "id": "dc809764",
   "metadata": {},
   "outputs": [
    {
     "data": {
      "text/plain": [
       "fraud_bool                            int64\n",
       "income                              float64\n",
       "name_email_similarity               float64\n",
       "prev_address_months_count             int64\n",
       "current_address_months_count          int64\n",
       "customer_age                          int64\n",
       "days_since_request                  float64\n",
       "intended_balcon_amount              float64\n",
       "payment_type                         object\n",
       "zip_count_4w                          int64\n",
       "velocity_6h                         float64\n",
       "velocity_24h                        float64\n",
       "velocity_4w                         float64\n",
       "bank_branch_count_8w                  int64\n",
       "date_of_birth_distinct_emails_4w      int64\n",
       "employment_status                    object\n",
       "credit_risk_score                     int64\n",
       "email_is_free                         int64\n",
       "housing_status                       object\n",
       "phone_home_valid                      int64\n",
       "phone_mobile_valid                    int64\n",
       "bank_months_count                     int64\n",
       "has_other_cards                       int64\n",
       "proposed_credit_limit               float64\n",
       "foreign_request                       int64\n",
       "source                               object\n",
       "session_length_in_minutes           float64\n",
       "device_os                            object\n",
       "keep_alive_session                    int64\n",
       "device_distinct_emails_8w             int64\n",
       "device_fraud_count                    int64\n",
       "month                                 int64\n",
       "dtype: object"
      ]
     },
     "execution_count": 7,
     "metadata": {},
     "output_type": "execute_result"
    }
   ],
   "source": [
    "bf_train.dtypes"
   ]
  },
  {
   "cell_type": "code",
   "execution_count": 9,
   "id": "59be8a69",
   "metadata": {},
   "outputs": [
    {
     "data": {
      "text/plain": [
       "fraud_bool\n",
       "0    988971\n",
       "1     11029\n",
       "Name: count, dtype: int64"
      ]
     },
     "execution_count": 9,
     "metadata": {},
     "output_type": "execute_result"
    }
   ],
   "source": [
    "bf_train['fraud_bool'].value_counts()"
   ]
  },
  {
   "cell_type": "code",
   "execution_count": 15,
   "id": "ef9cf73e",
   "metadata": {},
   "outputs": [],
   "source": [
    "X_train = bf_train.drop('fraud_bool',axis=1)\n",
    "X_test = bf_test.drop('fraud_bool',axis=1)\n",
    "y_train = bf_train['fraud_bool']\n",
    "y_test = bf_test['fraud_bool']"
   ]
  },
  {
   "cell_type": "markdown",
   "id": "7a5b4820",
   "metadata": {},
   "source": [
    "# Codificación del resto de variables categoricas"
   ]
  },
  {
   "cell_type": "code",
   "execution_count": 16,
   "id": "0aa77528",
   "metadata": {},
   "outputs": [],
   "source": [
    "list_columns_cat = list(X_train.select_dtypes(\"object\", \"category\").columns)\n",
    "list_other = list(set(X_train.columns)-set(list_columns_cat))"
   ]
  },
  {
   "cell_type": "code",
   "execution_count": 21,
   "id": "5b21dcc1",
   "metadata": {},
   "outputs": [],
   "source": [
    "ohe = ce.OneHotEncoder(cols=list_columns_cat)\n",
    "model = ohe.fit(X_train, y_train)"
   ]
  },
  {
   "cell_type": "code",
   "execution_count": 22,
   "id": "198d1a31",
   "metadata": {},
   "outputs": [
    {
     "data": {
      "text/html": [
       "<style>#sk-container-id-1 {color: black;}#sk-container-id-1 pre{padding: 0;}#sk-container-id-1 div.sk-toggleable {background-color: white;}#sk-container-id-1 label.sk-toggleable__label {cursor: pointer;display: block;width: 100%;margin-bottom: 0;padding: 0.3em;box-sizing: border-box;text-align: center;}#sk-container-id-1 label.sk-toggleable__label-arrow:before {content: \"▸\";float: left;margin-right: 0.25em;color: #696969;}#sk-container-id-1 label.sk-toggleable__label-arrow:hover:before {color: black;}#sk-container-id-1 div.sk-estimator:hover label.sk-toggleable__label-arrow:before {color: black;}#sk-container-id-1 div.sk-toggleable__content {max-height: 0;max-width: 0;overflow: hidden;text-align: left;background-color: #f0f8ff;}#sk-container-id-1 div.sk-toggleable__content pre {margin: 0.2em;color: black;border-radius: 0.25em;background-color: #f0f8ff;}#sk-container-id-1 input.sk-toggleable__control:checked~div.sk-toggleable__content {max-height: 200px;max-width: 100%;overflow: auto;}#sk-container-id-1 input.sk-toggleable__control:checked~label.sk-toggleable__label-arrow:before {content: \"▾\";}#sk-container-id-1 div.sk-estimator input.sk-toggleable__control:checked~label.sk-toggleable__label {background-color: #d4ebff;}#sk-container-id-1 div.sk-label input.sk-toggleable__control:checked~label.sk-toggleable__label {background-color: #d4ebff;}#sk-container-id-1 input.sk-hidden--visually {border: 0;clip: rect(1px 1px 1px 1px);clip: rect(1px, 1px, 1px, 1px);height: 1px;margin: -1px;overflow: hidden;padding: 0;position: absolute;width: 1px;}#sk-container-id-1 div.sk-estimator {font-family: monospace;background-color: #f0f8ff;border: 1px dotted black;border-radius: 0.25em;box-sizing: border-box;margin-bottom: 0.5em;}#sk-container-id-1 div.sk-estimator:hover {background-color: #d4ebff;}#sk-container-id-1 div.sk-parallel-item::after {content: \"\";width: 100%;border-bottom: 1px solid gray;flex-grow: 1;}#sk-container-id-1 div.sk-label:hover label.sk-toggleable__label {background-color: #d4ebff;}#sk-container-id-1 div.sk-serial::before {content: \"\";position: absolute;border-left: 1px solid gray;box-sizing: border-box;top: 0;bottom: 0;left: 50%;z-index: 0;}#sk-container-id-1 div.sk-serial {display: flex;flex-direction: column;align-items: center;background-color: white;padding-right: 0.2em;padding-left: 0.2em;position: relative;}#sk-container-id-1 div.sk-item {position: relative;z-index: 1;}#sk-container-id-1 div.sk-parallel {display: flex;align-items: stretch;justify-content: center;background-color: white;position: relative;}#sk-container-id-1 div.sk-item::before, #sk-container-id-1 div.sk-parallel-item::before {content: \"\";position: absolute;border-left: 1px solid gray;box-sizing: border-box;top: 0;bottom: 0;left: 50%;z-index: -1;}#sk-container-id-1 div.sk-parallel-item {display: flex;flex-direction: column;z-index: 1;position: relative;background-color: white;}#sk-container-id-1 div.sk-parallel-item:first-child::after {align-self: flex-end;width: 50%;}#sk-container-id-1 div.sk-parallel-item:last-child::after {align-self: flex-start;width: 50%;}#sk-container-id-1 div.sk-parallel-item:only-child::after {width: 0;}#sk-container-id-1 div.sk-dashed-wrapped {border: 1px dashed gray;margin: 0 0.4em 0.5em 0.4em;box-sizing: border-box;padding-bottom: 0.4em;background-color: white;}#sk-container-id-1 div.sk-label label {font-family: monospace;font-weight: bold;display: inline-block;line-height: 1.2em;}#sk-container-id-1 div.sk-label-container {text-align: center;}#sk-container-id-1 div.sk-container {/* jupyter's `normalize.less` sets `[hidden] { display: none; }` but bootstrap.min.css set `[hidden] { display: none !important; }` so we also need the `!important` here to be able to override the default hidden behavior on the sphinx rendered scikit-learn.org. See: https://github.com/scikit-learn/scikit-learn/issues/21755 */display: inline-block !important;position: relative;}#sk-container-id-1 div.sk-text-repr-fallback {display: none;}</style><div id=\"sk-container-id-1\" class=\"sk-top-container\"><div class=\"sk-text-repr-fallback\"><pre>OneHotEncoder(cols=[&#x27;payment_type&#x27;, &#x27;employment_status&#x27;, &#x27;housing_status&#x27;,\n",
       "                    &#x27;source&#x27;, &#x27;device_os&#x27;])</pre><b>In a Jupyter environment, please rerun this cell to show the HTML representation or trust the notebook. <br />On GitHub, the HTML representation is unable to render, please try loading this page with nbviewer.org.</b></div><div class=\"sk-container\" hidden><div class=\"sk-item\"><div class=\"sk-estimator sk-toggleable\"><input class=\"sk-toggleable__control sk-hidden--visually\" id=\"sk-estimator-id-1\" type=\"checkbox\" checked><label for=\"sk-estimator-id-1\" class=\"sk-toggleable__label sk-toggleable__label-arrow\">OneHotEncoder</label><div class=\"sk-toggleable__content\"><pre>OneHotEncoder(cols=[&#x27;payment_type&#x27;, &#x27;employment_status&#x27;, &#x27;housing_status&#x27;,\n",
       "                    &#x27;source&#x27;, &#x27;device_os&#x27;])</pre></div></div></div></div></div>"
      ],
      "text/plain": [
       "OneHotEncoder(cols=['payment_type', 'employment_status', 'housing_status',\n",
       "                    'source', 'device_os'])"
      ]
     },
     "execution_count": 22,
     "metadata": {},
     "output_type": "execute_result"
    }
   ],
   "source": [
    "model"
   ]
  },
  {
   "cell_type": "code",
   "execution_count": 23,
   "id": "0f8557d8",
   "metadata": {},
   "outputs": [],
   "source": [
    "X_train_t = model.transform(X_train, y_train)\n",
    "X_test_t = model.transform(X_test, y_test)"
   ]
  },
  {
   "cell_type": "code",
   "execution_count": 24,
   "id": "9ff60bde",
   "metadata": {},
   "outputs": [
    {
     "data": {
      "text/plain": [
       "52"
      ]
     },
     "execution_count": 24,
     "metadata": {},
     "output_type": "execute_result"
    }
   ],
   "source": [
    "len(list(X_train_t.columns))"
   ]
  },
  {
   "cell_type": "code",
   "execution_count": 25,
   "id": "9d83663a",
   "metadata": {},
   "outputs": [
    {
     "data": {
      "text/plain": [
       "{'income': dtype('float64'),\n",
       " 'name_email_similarity': dtype('float64'),\n",
       " 'prev_address_months_count': dtype('int64'),\n",
       " 'current_address_months_count': dtype('int64'),\n",
       " 'customer_age': dtype('int64'),\n",
       " 'days_since_request': dtype('float64'),\n",
       " 'intended_balcon_amount': dtype('float64'),\n",
       " 'payment_type_1': dtype('int64'),\n",
       " 'payment_type_2': dtype('int64'),\n",
       " 'payment_type_3': dtype('int64'),\n",
       " 'payment_type_4': dtype('int64'),\n",
       " 'payment_type_5': dtype('int64'),\n",
       " 'zip_count_4w': dtype('int64'),\n",
       " 'velocity_6h': dtype('float64'),\n",
       " 'velocity_24h': dtype('float64'),\n",
       " 'velocity_4w': dtype('float64'),\n",
       " 'bank_branch_count_8w': dtype('int64'),\n",
       " 'date_of_birth_distinct_emails_4w': dtype('int64'),\n",
       " 'employment_status_1': dtype('int64'),\n",
       " 'employment_status_2': dtype('int64'),\n",
       " 'employment_status_3': dtype('int64'),\n",
       " 'employment_status_4': dtype('int64'),\n",
       " 'employment_status_5': dtype('int64'),\n",
       " 'employment_status_6': dtype('int64'),\n",
       " 'employment_status_7': dtype('int64'),\n",
       " 'credit_risk_score': dtype('int64'),\n",
       " 'email_is_free': dtype('int64'),\n",
       " 'housing_status_1': dtype('int64'),\n",
       " 'housing_status_2': dtype('int64'),\n",
       " 'housing_status_3': dtype('int64'),\n",
       " 'housing_status_4': dtype('int64'),\n",
       " 'housing_status_5': dtype('int64'),\n",
       " 'housing_status_6': dtype('int64'),\n",
       " 'housing_status_7': dtype('int64'),\n",
       " 'phone_home_valid': dtype('int64'),\n",
       " 'phone_mobile_valid': dtype('int64'),\n",
       " 'bank_months_count': dtype('int64'),\n",
       " 'has_other_cards': dtype('int64'),\n",
       " 'proposed_credit_limit': dtype('float64'),\n",
       " 'foreign_request': dtype('int64'),\n",
       " 'source_1': dtype('int64'),\n",
       " 'source_2': dtype('int64'),\n",
       " 'session_length_in_minutes': dtype('float64'),\n",
       " 'device_os_1': dtype('int64'),\n",
       " 'device_os_2': dtype('int64'),\n",
       " 'device_os_3': dtype('int64'),\n",
       " 'device_os_4': dtype('int64'),\n",
       " 'device_os_5': dtype('int64'),\n",
       " 'keep_alive_session': dtype('int64'),\n",
       " 'device_distinct_emails_8w': dtype('int64'),\n",
       " 'device_fraud_count': dtype('int64'),\n",
       " 'month': dtype('int64')}"
      ]
     },
     "execution_count": 25,
     "metadata": {},
     "output_type": "execute_result"
    }
   ],
   "source": [
    "X_train_t.dtypes.to_dict()"
   ]
  },
  {
   "cell_type": "markdown",
   "id": "0d589ccd",
   "metadata": {},
   "source": [
    "# Escalado de las variables"
   ]
  },
  {
   "cell_type": "code",
   "execution_count": 26,
   "id": "27d8c39a",
   "metadata": {},
   "outputs": [],
   "source": [
    "from sklearn.preprocessing import StandardScaler\n",
    "scaler = StandardScaler()\n",
    "model_scaled = scaler.fit(X_train_t)\n",
    "X_train_scaled = pd.DataFrame(scaler.transform(X_train_t), columns=X_train_t.columns, index=X_train_t.index)\n",
    "X_test_scaled = pd.DataFrame(scaler.transform(X_test_t), columns=X_test_t.columns, index=X_test.index)"
   ]
  },
  {
   "cell_type": "code",
   "execution_count": 27,
   "id": "d08ec2b9",
   "metadata": {
    "scrolled": true
   },
   "outputs": [
    {
     "data": {
      "text/html": [
       "<div>\n",
       "<style scoped>\n",
       "    .dataframe tbody tr th:only-of-type {\n",
       "        vertical-align: middle;\n",
       "    }\n",
       "\n",
       "    .dataframe tbody tr th {\n",
       "        vertical-align: top;\n",
       "    }\n",
       "\n",
       "    .dataframe thead th {\n",
       "        text-align: right;\n",
       "    }\n",
       "</style>\n",
       "<table border=\"1\" class=\"dataframe\">\n",
       "  <thead>\n",
       "    <tr style=\"text-align: right;\">\n",
       "      <th></th>\n",
       "      <th>income</th>\n",
       "      <th>name_email_similarity</th>\n",
       "      <th>prev_address_months_count</th>\n",
       "      <th>current_address_months_count</th>\n",
       "      <th>customer_age</th>\n",
       "      <th>days_since_request</th>\n",
       "      <th>intended_balcon_amount</th>\n",
       "      <th>payment_type_1</th>\n",
       "      <th>payment_type_2</th>\n",
       "      <th>payment_type_3</th>\n",
       "      <th>...</th>\n",
       "      <th>session_length_in_minutes</th>\n",
       "      <th>device_os_1</th>\n",
       "      <th>device_os_2</th>\n",
       "      <th>device_os_3</th>\n",
       "      <th>device_os_4</th>\n",
       "      <th>device_os_5</th>\n",
       "      <th>keep_alive_session</th>\n",
       "      <th>device_distinct_emails_8w</th>\n",
       "      <th>device_fraud_count</th>\n",
       "      <th>month</th>\n",
       "    </tr>\n",
       "  </thead>\n",
       "  <tbody>\n",
       "    <tr>\n",
       "      <th>count</th>\n",
       "      <td>1.000000e+06</td>\n",
       "      <td>1.000000e+06</td>\n",
       "      <td>1.000000e+06</td>\n",
       "      <td>1.000000e+06</td>\n",
       "      <td>1.000000e+06</td>\n",
       "      <td>1.000000e+06</td>\n",
       "      <td>1.000000e+06</td>\n",
       "      <td>1.000000e+06</td>\n",
       "      <td>1.000000e+06</td>\n",
       "      <td>1.000000e+06</td>\n",
       "      <td>...</td>\n",
       "      <td>1.000000e+06</td>\n",
       "      <td>1.000000e+06</td>\n",
       "      <td>1.000000e+06</td>\n",
       "      <td>1.000000e+06</td>\n",
       "      <td>1.000000e+06</td>\n",
       "      <td>1.000000e+06</td>\n",
       "      <td>1.000000e+06</td>\n",
       "      <td>1.000000e+06</td>\n",
       "      <td>1000000.0</td>\n",
       "      <td>1.000000e+06</td>\n",
       "    </tr>\n",
       "    <tr>\n",
       "      <th>mean</th>\n",
       "      <td>-5.583587e-16</td>\n",
       "      <td>-5.687326e-16</td>\n",
       "      <td>-3.439027e-18</td>\n",
       "      <td>-6.357936e-17</td>\n",
       "      <td>2.415135e-16</td>\n",
       "      <td>-1.280398e-17</td>\n",
       "      <td>1.653575e-16</td>\n",
       "      <td>1.364242e-18</td>\n",
       "      <td>3.080913e-17</td>\n",
       "      <td>1.493952e-16</td>\n",
       "      <td>...</td>\n",
       "      <td>-1.219931e-16</td>\n",
       "      <td>-1.615774e-17</td>\n",
       "      <td>9.737988e-17</td>\n",
       "      <td>-3.871037e-17</td>\n",
       "      <td>-1.379163e-17</td>\n",
       "      <td>-1.028688e-17</td>\n",
       "      <td>5.731238e-17</td>\n",
       "      <td>-6.069563e-16</td>\n",
       "      <td>0.0</td>\n",
       "      <td>-9.134737e-17</td>\n",
       "    </tr>\n",
       "    <tr>\n",
       "      <th>std</th>\n",
       "      <td>1.000000e+00</td>\n",
       "      <td>1.000001e+00</td>\n",
       "      <td>1.000000e+00</td>\n",
       "      <td>1.000001e+00</td>\n",
       "      <td>1.000001e+00</td>\n",
       "      <td>1.000001e+00</td>\n",
       "      <td>1.000001e+00</td>\n",
       "      <td>1.000001e+00</td>\n",
       "      <td>1.000000e+00</td>\n",
       "      <td>1.000000e+00</td>\n",
       "      <td>...</td>\n",
       "      <td>1.000001e+00</td>\n",
       "      <td>1.000001e+00</td>\n",
       "      <td>1.000001e+00</td>\n",
       "      <td>1.000001e+00</td>\n",
       "      <td>1.000001e+00</td>\n",
       "      <td>1.000001e+00</td>\n",
       "      <td>1.000000e+00</td>\n",
       "      <td>1.000000e+00</td>\n",
       "      <td>0.0</td>\n",
       "      <td>1.000001e+00</td>\n",
       "    </tr>\n",
       "    <tr>\n",
       "      <th>min</th>\n",
       "      <td>-1.593620e+00</td>\n",
       "      <td>-1.707543e+00</td>\n",
       "      <td>-4.022723e-01</td>\n",
       "      <td>-9.907395e-01</td>\n",
       "      <td>-1.969856e+00</td>\n",
       "      <td>-1.905866e-01</td>\n",
       "      <td>-1.195487e+00</td>\n",
       "      <td>-5.900520e-01</td>\n",
       "      <td>-7.672670e-01</td>\n",
       "      <td>-5.805388e-01</td>\n",
       "      <td>...</td>\n",
       "      <td>-1.063716e+00</td>\n",
       "      <td>-5.981507e-01</td>\n",
       "      <td>-7.221081e-01</td>\n",
       "      <td>-7.061185e-01</td>\n",
       "      <td>-2.385122e-01</td>\n",
       "      <td>-8.532657e-02</td>\n",
       "      <td>-1.167806e+00</td>\n",
       "      <td>-1.116562e+01</td>\n",
       "      <td>0.0</td>\n",
       "      <td>-1.488092e+00</td>\n",
       "    </tr>\n",
       "    <tr>\n",
       "      <th>25%</th>\n",
       "      <td>-9.047785e-01</td>\n",
       "      <td>-9.285883e-01</td>\n",
       "      <td>-4.022723e-01</td>\n",
       "      <td>-7.645119e-01</td>\n",
       "      <td>-1.138310e+00</td>\n",
       "      <td>-1.892501e-01</td>\n",
       "      <td>-4.864062e-01</td>\n",
       "      <td>-5.900520e-01</td>\n",
       "      <td>-7.672670e-01</td>\n",
       "      <td>-5.805388e-01</td>\n",
       "      <td>...</td>\n",
       "      <td>-5.529479e-01</td>\n",
       "      <td>-5.981507e-01</td>\n",
       "      <td>-7.221081e-01</td>\n",
       "      <td>-7.061185e-01</td>\n",
       "      <td>-2.385122e-01</td>\n",
       "      <td>-8.532657e-02</td>\n",
       "      <td>-1.167806e+00</td>\n",
       "      <td>-1.013048e-01</td>\n",
       "      <td>0.0</td>\n",
       "      <td>-1.035602e+00</td>\n",
       "    </tr>\n",
       "    <tr>\n",
       "      <th>50%</th>\n",
       "      <td>1.284841e-01</td>\n",
       "      <td>-5.331844e-03</td>\n",
       "      <td>-4.022723e-01</td>\n",
       "      <td>-3.912365e-01</td>\n",
       "      <td>-3.067640e-01</td>\n",
       "      <td>-1.877668e-01</td>\n",
       "      <td>-4.690619e-01</td>\n",
       "      <td>-5.900520e-01</td>\n",
       "      <td>-7.672670e-01</td>\n",
       "      <td>-5.805388e-01</td>\n",
       "      <td>...</td>\n",
       "      <td>-3.025754e-01</td>\n",
       "      <td>-5.981507e-01</td>\n",
       "      <td>-7.221081e-01</td>\n",
       "      <td>-7.061185e-01</td>\n",
       "      <td>-2.385122e-01</td>\n",
       "      <td>-8.532657e-02</td>\n",
       "      <td>8.563069e-01</td>\n",
       "      <td>-1.013048e-01</td>\n",
       "      <td>0.0</td>\n",
       "      <td>-1.306221e-01</td>\n",
       "    </tr>\n",
       "    <tr>\n",
       "      <th>75%</th>\n",
       "      <td>8.173259e-01</td>\n",
       "      <td>9.057450e-01</td>\n",
       "      <td>-1.071277e-01</td>\n",
       "      <td>4.910511e-01</td>\n",
       "      <td>5.247820e-01</td>\n",
       "      <td>-1.856941e-01</td>\n",
       "      <td>-1.817205e-01</td>\n",
       "      <td>1.694766e+00</td>\n",
       "      <td>1.303327e+00</td>\n",
       "      <td>1.722538e+00</td>\n",
       "      <td>...</td>\n",
       "      <td>1.644683e-01</td>\n",
       "      <td>1.671819e+00</td>\n",
       "      <td>1.384834e+00</td>\n",
       "      <td>1.416193e+00</td>\n",
       "      <td>-2.385122e-01</td>\n",
       "      <td>-8.532657e-02</td>\n",
       "      <td>8.563069e-01</td>\n",
       "      <td>-1.013048e-01</td>\n",
       "      <td>0.0</td>\n",
       "      <td>7.743581e-01</td>\n",
       "    </tr>\n",
       "    <tr>\n",
       "      <th>max</th>\n",
       "      <td>1.161747e+00</td>\n",
       "      <td>1.751166e+00</td>\n",
       "      <td>8.315845e+00</td>\n",
       "      <td>3.861842e+00</td>\n",
       "      <td>4.682512e+00</td>\n",
       "      <td>1.438752e+01</td>\n",
       "      <td>5.153918e+00</td>\n",
       "      <td>1.694766e+00</td>\n",
       "      <td>1.303327e+00</td>\n",
       "      <td>1.722538e+00</td>\n",
       "      <td>...</td>\n",
       "      <td>9.753916e+00</td>\n",
       "      <td>1.671819e+00</td>\n",
       "      <td>1.384834e+00</td>\n",
       "      <td>1.416193e+00</td>\n",
       "      <td>4.192658e+00</td>\n",
       "      <td>1.171968e+01</td>\n",
       "      <td>8.563069e-01</td>\n",
       "      <td>5.430851e+00</td>\n",
       "      <td>0.0</td>\n",
       "      <td>1.679338e+00</td>\n",
       "    </tr>\n",
       "  </tbody>\n",
       "</table>\n",
       "<p>8 rows × 52 columns</p>\n",
       "</div>"
      ],
      "text/plain": [
       "             income  name_email_similarity  prev_address_months_count  \\\n",
       "count  1.000000e+06           1.000000e+06               1.000000e+06   \n",
       "mean  -5.583587e-16          -5.687326e-16              -3.439027e-18   \n",
       "std    1.000000e+00           1.000001e+00               1.000000e+00   \n",
       "min   -1.593620e+00          -1.707543e+00              -4.022723e-01   \n",
       "25%   -9.047785e-01          -9.285883e-01              -4.022723e-01   \n",
       "50%    1.284841e-01          -5.331844e-03              -4.022723e-01   \n",
       "75%    8.173259e-01           9.057450e-01              -1.071277e-01   \n",
       "max    1.161747e+00           1.751166e+00               8.315845e+00   \n",
       "\n",
       "       current_address_months_count  customer_age  days_since_request  \\\n",
       "count                  1.000000e+06  1.000000e+06        1.000000e+06   \n",
       "mean                  -6.357936e-17  2.415135e-16       -1.280398e-17   \n",
       "std                    1.000001e+00  1.000001e+00        1.000001e+00   \n",
       "min                   -9.907395e-01 -1.969856e+00       -1.905866e-01   \n",
       "25%                   -7.645119e-01 -1.138310e+00       -1.892501e-01   \n",
       "50%                   -3.912365e-01 -3.067640e-01       -1.877668e-01   \n",
       "75%                    4.910511e-01  5.247820e-01       -1.856941e-01   \n",
       "max                    3.861842e+00  4.682512e+00        1.438752e+01   \n",
       "\n",
       "       intended_balcon_amount  payment_type_1  payment_type_2  payment_type_3  \\\n",
       "count            1.000000e+06    1.000000e+06    1.000000e+06    1.000000e+06   \n",
       "mean             1.653575e-16    1.364242e-18    3.080913e-17    1.493952e-16   \n",
       "std              1.000001e+00    1.000001e+00    1.000000e+00    1.000000e+00   \n",
       "min             -1.195487e+00   -5.900520e-01   -7.672670e-01   -5.805388e-01   \n",
       "25%             -4.864062e-01   -5.900520e-01   -7.672670e-01   -5.805388e-01   \n",
       "50%             -4.690619e-01   -5.900520e-01   -7.672670e-01   -5.805388e-01   \n",
       "75%             -1.817205e-01    1.694766e+00    1.303327e+00    1.722538e+00   \n",
       "max              5.153918e+00    1.694766e+00    1.303327e+00    1.722538e+00   \n",
       "\n",
       "       ...  session_length_in_minutes   device_os_1   device_os_2  \\\n",
       "count  ...               1.000000e+06  1.000000e+06  1.000000e+06   \n",
       "mean   ...              -1.219931e-16 -1.615774e-17  9.737988e-17   \n",
       "std    ...               1.000001e+00  1.000001e+00  1.000001e+00   \n",
       "min    ...              -1.063716e+00 -5.981507e-01 -7.221081e-01   \n",
       "25%    ...              -5.529479e-01 -5.981507e-01 -7.221081e-01   \n",
       "50%    ...              -3.025754e-01 -5.981507e-01 -7.221081e-01   \n",
       "75%    ...               1.644683e-01  1.671819e+00  1.384834e+00   \n",
       "max    ...               9.753916e+00  1.671819e+00  1.384834e+00   \n",
       "\n",
       "        device_os_3   device_os_4   device_os_5  keep_alive_session  \\\n",
       "count  1.000000e+06  1.000000e+06  1.000000e+06        1.000000e+06   \n",
       "mean  -3.871037e-17 -1.379163e-17 -1.028688e-17        5.731238e-17   \n",
       "std    1.000001e+00  1.000001e+00  1.000001e+00        1.000000e+00   \n",
       "min   -7.061185e-01 -2.385122e-01 -8.532657e-02       -1.167806e+00   \n",
       "25%   -7.061185e-01 -2.385122e-01 -8.532657e-02       -1.167806e+00   \n",
       "50%   -7.061185e-01 -2.385122e-01 -8.532657e-02        8.563069e-01   \n",
       "75%    1.416193e+00 -2.385122e-01 -8.532657e-02        8.563069e-01   \n",
       "max    1.416193e+00  4.192658e+00  1.171968e+01        8.563069e-01   \n",
       "\n",
       "       device_distinct_emails_8w  device_fraud_count         month  \n",
       "count               1.000000e+06           1000000.0  1.000000e+06  \n",
       "mean               -6.069563e-16                 0.0 -9.134737e-17  \n",
       "std                 1.000000e+00                 0.0  1.000001e+00  \n",
       "min                -1.116562e+01                 0.0 -1.488092e+00  \n",
       "25%                -1.013048e-01                 0.0 -1.035602e+00  \n",
       "50%                -1.013048e-01                 0.0 -1.306221e-01  \n",
       "75%                -1.013048e-01                 0.0  7.743581e-01  \n",
       "max                 5.430851e+00                 0.0  1.679338e+00  \n",
       "\n",
       "[8 rows x 52 columns]"
      ]
     },
     "execution_count": 27,
     "metadata": {},
     "output_type": "execute_result"
    }
   ],
   "source": [
    "X_train_scaled.describe()"
   ]
  },
  {
   "cell_type": "markdown",
   "id": "5715a4e5",
   "metadata": {},
   "source": [
    "# Modelo"
   ]
  },
  {
   "cell_type": "code",
   "execution_count": null,
   "id": "99dc55f2",
   "metadata": {},
   "outputs": [
    {
     "name": "stdout",
     "output_type": "stream",
     "text": [
      "RandomForestClassifier()\n",
      "model score: 1.000\n"
     ]
    }
   ],
   "source": [
    "from sklearn.ensemble import RandomForestClassifier, AdaBoostClassifier\n",
    "classifiers = [\n",
    "    RandomForestClassifier(),\n",
    "    GradientBoostingClassifier()\n",
    "    ]\n",
    "\n",
    "for classifier in classifiers:\n",
    "    pipe = Pipeline(steps=[('classifier', classifier)])\n",
    "    pipe.fit(X_train_t, y_train)   \n",
    "    print(classifier)\n",
    "    print(\"model score: %.3f\" % pipe.score(X_test_t, y_test))"
   ]
  },
  {
   "cell_type": "code",
   "execution_count": null,
   "id": "f512d39c",
   "metadata": {},
   "outputs": [],
   "source": [
    "clf = GradientBoostingClassifier(\n",
    "              learning_rate=0.1,  max_depth=12,\n",
    "              min_weight_fraction_leaf=0.02, n_estimators=130,\n",
    "              random_state=2408,\n",
    "              verbose=1)\n",
    "clf.fit(X_train_t,y_train)"
   ]
  },
  {
   "cell_type": "code",
   "execution_count": null,
   "id": "637d35b5",
   "metadata": {},
   "outputs": [],
   "source": [
    "feature_importance = clf.feature_importances_\n",
    "# make importances relative to max importance\n",
    "feature_importance = 100.0 * (feature_importance / feature_importance.max())\n",
    "sorted_idx = np.argsort(feature_importance)\n",
    "pos = np.arange(sorted_idx.shape[0]) + .5\n",
    "# plt.subplot(1, 2, 2)\n",
    "plt.figure(figsize=(12, 20))\n",
    "plt.barh(pos, feature_importance[sorted_idx], align='center')\n",
    "plt.yticks(pos, X_train_t.keys()[sorted_idx])\n",
    "plt.xlabel('Relative Importance')\n",
    "plt.title('Variable Importance')\n",
    "plt.show()"
   ]
  },
  {
   "cell_type": "code",
   "execution_count": null,
   "id": "1f0df2b4",
   "metadata": {},
   "outputs": [],
   "source": [
    "pred_test = clf.predict_proba(X_test_t)\n",
    "pred_train = clf.predict_proba(X_train_t)"
   ]
  },
  {
   "cell_type": "markdown",
   "id": "993549c4",
   "metadata": {},
   "source": [
    "# Curva roc"
   ]
  },
  {
   "cell_type": "code",
   "execution_count": null,
   "id": "36c3af36",
   "metadata": {},
   "outputs": [],
   "source": [
    "yhat_train = pred_train[:, 1]\n",
    "# calculate roc curves\n",
    "fpr, tpr, thresholds = roc_curve(y_train, yhat_train)\n",
    "# plot the roc curve for the model\n",
    "plt.plot([0,1], [0,1], linestyle='--', label='No Skill')\n",
    "plt.plot(fpr, tpr, marker='.', label='xgb')\n",
    "# axis labels\n",
    "plt.xlabel('False Positive Rate')\n",
    "plt.ylabel('True Positive Rate')\n",
    "plt.legend()\n",
    "# show the plot\n",
    "plt.show()"
   ]
  },
  {
   "cell_type": "code",
   "execution_count": null,
   "id": "d3f0968c",
   "metadata": {},
   "outputs": [],
   "source": [
    "auc = roc_auc_score(y_train, yhat_train)\n",
    "print('AUC: %.3f' % auc)"
   ]
  },
  {
   "cell_type": "code",
   "execution_count": null,
   "id": "e092a1a6",
   "metadata": {},
   "outputs": [],
   "source": [
    "yhat = pred_test[:, 1]\n",
    "# calculate roc curves\n",
    "fpr, tpr, thresholds = roc_curve(y_test, yhat)\n",
    "# plot the roc curve for the model\n",
    "plt.plot([0,1], [0,1], linestyle='--', label='No Skill')\n",
    "plt.plot(fpr, tpr, marker='.', label='xgb')\n",
    "# axis labels\n",
    "plt.xlabel('False Positive Rate')\n",
    "plt.ylabel('True Positive Rate')\n",
    "plt.legend()\n",
    "# show the plot\n",
    "plt.show()"
   ]
  },
  {
   "cell_type": "code",
   "execution_count": null,
   "id": "b63d854e",
   "metadata": {},
   "outputs": [],
   "source": [
    "auc = roc_auc_score(y_test, yhat)\n",
    "print('AUC: %.3f' % auc)"
   ]
  },
  {
   "cell_type": "markdown",
   "id": "ffc97f3f",
   "metadata": {},
   "source": [
    "# Curva precision-recall"
   ]
  },
  {
   "cell_type": "code",
   "execution_count": null,
   "id": "c45b8240",
   "metadata": {},
   "outputs": [],
   "source": [
    "precision, recall, thresholds = precision_recall_curve(y_test, yhat)\n",
    "# plot the roc curve for the model\n",
    "no_skill = len(y_test[y_test==1]) / len(y_test)\n",
    "plt.plot([0,1], [no_skill,no_skill], linestyle='--', label='No Skill')\n",
    "plt.plot(recall, precision, marker='.', label='Random Forest')\n",
    "# axis labels\n",
    "plt.xlabel('Recall')\n",
    "plt.ylabel('Precision')\n",
    "plt.legend()\n",
    "# show the plot\n",
    "plt.show()"
   ]
  },
  {
   "cell_type": "code",
   "execution_count": null,
   "id": "1eb7de4f",
   "metadata": {},
   "outputs": [],
   "source": [
    "auc_precision_recall = auc(recall, precision)\n",
    "print(auc_precision_recall)"
   ]
  }
 ],
 "metadata": {
  "kernelspec": {
   "display_name": "Python 3 (ipykernel)",
   "language": "python",
   "name": "python3"
  },
  "language_info": {
   "codemirror_mode": {
    "name": "ipython",
    "version": 3
   },
   "file_extension": ".py",
   "mimetype": "text/x-python",
   "name": "python",
   "nbconvert_exporter": "python",
   "pygments_lexer": "ipython3",
   "version": "3.9.18"
  }
 },
 "nbformat": 4,
 "nbformat_minor": 5
}
